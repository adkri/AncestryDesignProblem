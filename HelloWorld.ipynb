{
  "nbformat": 4,
  "nbformat_minor": 0,
  "metadata": {
    "colab": {
      "name": "HelloWorld",
      "provenance": [],
      "collapsed_sections": [],
      "authorship_tag": "ABX9TyOQqaUIgopLK8MNuTy3lO5q",
      "include_colab_link": true
    },
    "kernelspec": {
      "name": "python3",
      "display_name": "Python 3"
    },
    "language_info": {
      "name": "python"
    }
  },
  "cells": [
    {
      "cell_type": "markdown",
      "metadata": {
        "id": "view-in-github",
        "colab_type": "text"
      },
      "source": [
        "<a href=\"https://colab.research.google.com/github/notbeso1020hn/AncestryDesignProblem/blob/master/HelloWorld.ipynb\" target=\"_parent\"><img src=\"https://colab.research.google.com/assets/colab-badge.svg\" alt=\"Open In Colab\"/></a>"
      ]
    },
    {
      "cell_type": "code",
      "execution_count": null,
      "metadata": {
        "colab": {
          "base_uri": "https://localhost:8080/"
        },
        "id": "f6PV79hqolX9",
        "outputId": "411a71a8-91b3-48fa-9e1a-281c59427b5f"
      },
      "outputs": [
        {
          "output_type": "stream",
          "name": "stdout",
          "text": [
            "hello world from Beso\n"
          ]
        }
      ],
      "source": [
        "print(\"hello world from Beso\")"
      ]
    },
    {
      "cell_type": "code",
      "source": [
        "print(\"bonjour la monsieur Beso\")"
      ],
      "metadata": {
        "id": "QnxV3qSJp-aI",
        "colab": {
          "base_uri": "https://localhost:8080/"
        },
        "outputId": "d45f0ad3-4776-466c-cb6d-3ab838b2d245"
      },
      "execution_count": 3,
      "outputs": [
        {
          "output_type": "stream",
          "name": "stdout",
          "text": [
            "bonjour la monsieur Beso\n"
          ]
        }
      ]
    }
  ]
}